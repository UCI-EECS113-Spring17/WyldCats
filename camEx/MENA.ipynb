{
 "cells": [
  {
   "cell_type": "code",
   "execution_count": 6,
   "metadata": {
    "collapsed": false
   },
   "outputs": [
    {
     "ename": "RuntimeError",
     "evalue": "DevMode _send_cmd() not acknowledged.",
     "output_type": "error",
     "traceback": [
      "\u001b[0;31m---------------------------------------------------------------------------\u001b[0m",
      "\u001b[0;31mRuntimeError\u001b[0m                              Traceback (most recent call last)",
      "\u001b[0;32m<ipython-input-6-86a2199014ae>\u001b[0m in \u001b[0;36m<module>\u001b[0;34m()\u001b[0m\n\u001b[1;32m     11\u001b[0m \u001b[0;34m\u001b[0m\u001b[0m\n\u001b[1;32m     12\u001b[0m \u001b[0;34m\u001b[0m\u001b[0m\n\u001b[0;32m---> 13\u001b[0;31m \u001b[0mTXPin\u001b[0m\u001b[0;34m.\u001b[0m\u001b[0mwrite\u001b[0m\u001b[0;34m(\u001b[0m\u001b[0;36m0\u001b[0m\u001b[0;34m)\u001b[0m\u001b[0;34m\u001b[0m\u001b[0m\n\u001b[0m\u001b[1;32m     14\u001b[0m \u001b[0mtime\u001b[0m\u001b[0;34m.\u001b[0m\u001b[0msleep\u001b[0m\u001b[0;34m(\u001b[0m\u001b[0;36m1\u001b[0m\u001b[0;34m)\u001b[0m\u001b[0;34m\u001b[0m\u001b[0m\n\u001b[1;32m     15\u001b[0m \u001b[0mstart_time\u001b[0m \u001b[0;34m=\u001b[0m \u001b[0mtime\u001b[0m\u001b[0;34m.\u001b[0m\u001b[0mlocaltime\u001b[0m\u001b[0;34m(\u001b[0m\u001b[0;34m)\u001b[0m\u001b[0;34m\u001b[0m\u001b[0m\n",
      "\u001b[0;32m/opt/python3.6/lib/python3.6/site-packages/pynq/iop/pmod_io.py\u001b[0m in \u001b[0;36mwrite\u001b[0;34m(self, value)\u001b[0m\n\u001b[1;32m    126\u001b[0m         \u001b[0;32melse\u001b[0m\u001b[0;34m:\u001b[0m\u001b[0;34m\u001b[0m\u001b[0m\n\u001b[1;32m    127\u001b[0m             cur_val = self.iop.read_cmd(iop_const.PMOD_DIO_BASEADDR + \\\n\u001b[0;32m--> 128\u001b[0;31m                                         iop_const.PMOD_DIO_DATA_OFFSET)\n\u001b[0m\u001b[1;32m    129\u001b[0m             \u001b[0mnew_val\u001b[0m \u001b[0;34m=\u001b[0m \u001b[0mcur_val\u001b[0m \u001b[0;34m&\u001b[0m \u001b[0;34m(\u001b[0m\u001b[0;36m0xff\u001b[0m \u001b[0;34m^\u001b[0m \u001b[0;34m(\u001b[0m\u001b[0;36m0x1\u001b[0m\u001b[0;34m<<\u001b[0m\u001b[0mself\u001b[0m\u001b[0;34m.\u001b[0m\u001b[0mindex\u001b[0m\u001b[0;34m)\u001b[0m\u001b[0;34m)\u001b[0m\u001b[0;34m\u001b[0m\u001b[0m\n\u001b[1;32m    130\u001b[0m             self.iop.write_cmd(iop_const.PMOD_DIO_BASEADDR + \\\n",
      "\u001b[0;32m/opt/python3.6/lib/python3.6/site-packages/pynq/iop/devmode.py\u001b[0m in \u001b[0;36mread_cmd\u001b[0;34m(self, address, d_width, d_length, timeout)\u001b[0m\n\u001b[1;32m    221\u001b[0m         \"\"\"\n\u001b[1;32m    222\u001b[0m         return self._send_cmd(iop_const.READ_CMD, address, None, \n\u001b[0;32m--> 223\u001b[0;31m                                 d_width=d_width, timeout=timeout)\n\u001b[0m\u001b[1;32m    224\u001b[0m \u001b[0;34m\u001b[0m\u001b[0m\n\u001b[1;32m    225\u001b[0m     \u001b[0;32mdef\u001b[0m \u001b[0mis_cmd_mailbox_idle\u001b[0m\u001b[0;34m(\u001b[0m\u001b[0mself\u001b[0m\u001b[0;34m)\u001b[0m\u001b[0;34m:\u001b[0m\u001b[0;34m\u001b[0m\u001b[0m\n",
      "\u001b[0;32m/opt/python3.6/lib/python3.6/site-packages/pynq/iop/devmode.py\u001b[0m in \u001b[0;36m_send_cmd\u001b[0;34m(self, cmd, address, data, d_width, d_length, timeout)\u001b[0m\n\u001b[1;32m    318\u001b[0m         \u001b[0;31m# If ACK is not received, alert users.\u001b[0m\u001b[0;34m\u001b[0m\u001b[0;34m\u001b[0m\u001b[0m\n\u001b[1;32m    319\u001b[0m         \u001b[0;32mif\u001b[0m \u001b[0mcountdown\u001b[0m \u001b[0;34m==\u001b[0m \u001b[0;36m0\u001b[0m\u001b[0;34m:\u001b[0m\u001b[0;34m\u001b[0m\u001b[0m\n\u001b[0;32m--> 320\u001b[0;31m             \u001b[0;32mraise\u001b[0m \u001b[0mRuntimeError\u001b[0m\u001b[0;34m(\u001b[0m\u001b[0;34m\"DevMode _send_cmd() not acknowledged.\"\u001b[0m\u001b[0;34m)\u001b[0m\u001b[0;34m\u001b[0m\u001b[0m\n\u001b[0m\u001b[1;32m    321\u001b[0m \u001b[0;34m\u001b[0m\u001b[0m\n\u001b[1;32m    322\u001b[0m         \u001b[0;31m# Return data if expected from read, otherwise return None\u001b[0m\u001b[0;34m\u001b[0m\u001b[0;34m\u001b[0m\u001b[0m\n",
      "\u001b[0;31mRuntimeError\u001b[0m: DevMode _send_cmd() not acknowledged."
     ]
    }
   ],
   "source": [
    "from pynq import Overlay\n",
    "from pynq.iop import PMODA\n",
    "from pynq.iop import Pmod_IO\n",
    "import time\n",
    "\n",
    "TXPin = Pmod_IO (PMODA, 2, \"out\")\n",
    "RXPin = Pmod_IO (PMODA, 1, \"in\")\n",
    "\n",
    "\n",
    "Overlay(\"base.bit\").download()\n",
    "  \n",
    "\n",
    "TXPin.write(0)  \n",
    "time.sleep(1)\n",
    "start_time = time.localtime()\n",
    "TXPin.write(1)\n",
    "time.sleep(10)\n",
    "end_time = time.localtime() \n",
    "TXPin.write(0)\n",
    "\n",
    "duration = end_time-start_time\n",
    "distance = duration / 417                     #417us=1in\n",
    "  \n",
    "\n",
    "print (duration)\n",
    "print(distance)\n",
    "print(\" inch\")"
   ]
  },
  {
   "cell_type": "code",
   "execution_count": null,
   "metadata": {
    "collapsed": true
   },
   "outputs": [],
   "source": []
  }
 ],
 "metadata": {
  "kernelspec": {
   "display_name": "Python 3",
   "language": "python",
   "name": "python3"
  },
  "language_info": {
   "codemirror_mode": {
    "name": "ipython",
    "version": 3
   },
   "file_extension": ".py",
   "mimetype": "text/x-python",
   "name": "python",
   "nbconvert_exporter": "python",
   "pygments_lexer": "ipython3",
   "version": "3.6.0"
  }
 },
 "nbformat": 4,
 "nbformat_minor": 2
}
