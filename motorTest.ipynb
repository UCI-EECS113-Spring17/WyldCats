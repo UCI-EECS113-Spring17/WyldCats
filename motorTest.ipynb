{
 "cells": [
  {
   "cell_type": "code",
   "execution_count": 4,
   "metadata": {
    "collapsed": false
   },
   "outputs": [],
   "source": [
    "from pynq import Overlay\n",
    "from pynq.iop import ARDUINO\n",
    "from pynq.iop import Arduino_IO\n",
    "import time\n",
    "\n",
    "Overlay(\"base.bit\").download()\n",
    "pin2 = Arduino_IO(ARDUINO, 2, \"out\")\n",
    "pin3 = Arduino_IO(ARDUINO, 3, \"out\")\n",
    "pin4 = Arduino_IO(ARDUINO, 4, \"out\")\n",
    "pin11 = Arduino_IO(ARDUINO, 11, \"out\")\n",
    "\n",
    "def throttle():\n",
    "    pin3.write(1)\n",
    "    pin11.write(1)\n",
    "\n",
    "def stop():\n",
    "    pin3.write(0)\n",
    "    pin11.write(0)\n",
    "\n",
    "def forward():\n",
    "    pin2.write(1)\n",
    "    pin4.write(1)\n",
    "\n",
    "def reverse():\n",
    "    pin2.write(0)\n",
    "    pin4.write(0)\n",
    "\n",
    "def pivotClock():\n",
    "    pin2.write(0)\n",
    "    pin4.write(1)\n",
    "\n",
    "def pivotCounter():\n",
    "    pin2.write(1)\n",
    "    pin4.write(0)\n",
    "\n",
    "    \n",
    "#throttle()\n",
    "#forward()\n",
    "#reverse()\n",
    "#time.sleep(1)\n",
    "#pivotClock()\n",
    "#time.sleep(1)\n",
    "#time.sleep(1)\n",
    "#stop()\n",
    "\n",
    "pin3.write(1)\n"
   ]
  },
  {
   "cell_type": "markdown",
   "metadata": {
    "collapsed": true
   },
   "source": []
  },
  {
   "cell_type": "code",
   "execution_count": null,
   "metadata": {
    "collapsed": true
   },
   "outputs": [],
   "source": []
  }
 ],
 "metadata": {
  "kernelspec": {
   "display_name": "Python 3",
   "language": "python",
   "name": "python3"
  },
  "language_info": {
   "codemirror_mode": {
    "name": "ipython",
    "version": 3
   },
   "file_extension": ".py",
   "mimetype": "text/x-python",
   "name": "python",
   "nbconvert_exporter": "python",
   "pygments_lexer": "ipython3",
   "version": "3.4.3+"
  }
 },
 "nbformat": 4,
 "nbformat_minor": 1
}
