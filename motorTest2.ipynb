{
 "cells": [
  {
   "cell_type": "code",
   "execution_count": 2,
   "metadata": {
    "collapsed": false
   },
   "outputs": [],
   "source": [
    "from pynq import Overlay\n",
    "from pynq.iop import ARDUINO\n",
    "from pynq.iop import Arduino_IO\n",
    "import time\n",
    "\n",
    "Overlay(\"base.bit\").download()\n",
    "pin7 = Arduino_IO(ARDUINO, 7, \"out\")\n",
    "pin3 = Arduino_IO(ARDUINO, 3, \"out\")\n",
    "pin8 = Arduino_IO(ARDUINO, 8, \"out\")\n",
    "pin11 = Arduino_IO(ARDUINO, 11, \"out\")\n",
    "\n",
    "def throttle():\n",
    "    pin3.write(1)\n",
    "    pin11.write(1)\n",
    "\n",
    "def stop():\n",
    "    pin3.write(0)\n",
    "    pin11.write(0)\n",
    "\n",
    "def forward():\n",
    "    throttle()\n",
    "    pin7.write(1)\n",
    "    pin8.write(1)\n",
    "\n",
    "def reverse():\n",
    "    throttle()\n",
    "    pin7.write(0)\n",
    "    pin8.write(0)\n",
    "\n",
    "def pivotClock():\n",
    "    throttle()\n",
    "    pin7.write(0)\n",
    "    pin8.write(1)\n",
    "\n",
    "def pivotCounter():\n",
    "    throttle()\n",
    "    pin7.write(1)\n",
    "    pin8.write(0)\n",
    "\n",
    "forward()\n",
    "time.sleep(1)\n",
    "reverse()\n",
    "time.sleep(1)\n",
    "pivotClock()\n",
    "time.sleep(1)\n",
    "pivotCounter()\n",
    "time.sleep(1)\n",
    "stop()"
   ]
  },
  {
   "cell_type": "code",
   "execution_count": null,
   "metadata": {
    "collapsed": true
   },
   "outputs": [],
   "source": []
  }
 ],
 "metadata": {
  "kernelspec": {
   "display_name": "Python 3",
   "language": "python",
   "name": "python3"
  },
  "language_info": {
   "codemirror_mode": {
    "name": "ipython",
    "version": 3
   },
   "file_extension": ".py",
   "mimetype": "text/x-python",
   "name": "python",
   "nbconvert_exporter": "python",
   "pygments_lexer": "ipython3",
   "version": "3.4.3+"
  }
 },
 "nbformat": 4,
 "nbformat_minor": 1
}
